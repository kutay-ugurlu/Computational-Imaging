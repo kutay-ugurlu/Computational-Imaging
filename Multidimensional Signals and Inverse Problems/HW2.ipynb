{
 "cells": [
  {
   "cell_type": "markdown",
   "metadata": {},
   "source": [
    "# EE798 HW1"
   ]
  },
  {
   "cell_type": "code",
   "execution_count": 76,
   "metadata": {},
   "outputs": [],
   "source": [
    "from scipy.linalg import toeplitz\n",
    "import numpy as np\n",
    "from numpy.fft import fft, ifft\n",
    "import matplotlib.pyplot as plt "
   ]
  },
  {
   "cell_type": "markdown",
   "metadata": {},
   "source": [
    "## Q2.a"
   ]
  },
  {
   "cell_type": "code",
   "execution_count": 71,
   "metadata": {},
   "outputs": [],
   "source": [
    "def linear_conv_mat(h:np.array,output_size):\n",
    "    L = h.size\n",
    "    h_ex = np.zeros(output_size)\n",
    "    h_ex[0:L] = h\n",
    "    first_row = np.roll(np.flip(h_ex),1)\n",
    "    return toeplitz(h_ex.T,first_row[0:(output_size-L+1)]) # H + X - 1 = output_size"
   ]
  },
  {
   "cell_type": "markdown",
   "metadata": {},
   "source": [
    "Demonstration "
   ]
  },
  {
   "cell_type": "code",
   "execution_count": 72,
   "metadata": {},
   "outputs": [
    {
     "data": {
      "text/plain": [
       "array([[1., 0., 0., 0.],\n",
       "       [2., 1., 0., 0.],\n",
       "       [3., 2., 1., 0.],\n",
       "       [4., 3., 2., 1.],\n",
       "       [5., 4., 3., 2.],\n",
       "       [0., 5., 4., 3.],\n",
       "       [0., 0., 5., 4.],\n",
       "       [0., 0., 0., 5.]])"
      ]
     },
     "execution_count": 72,
     "metadata": {},
     "output_type": "execute_result"
    }
   ],
   "source": [
    "h = np.array([1,2,3,4,5])\n",
    "H = linear_conv_mat(h,8)\n",
    "H\n"
   ]
  },
  {
   "cell_type": "markdown",
   "metadata": {},
   "source": [
    "Verification "
   ]
  },
  {
   "cell_type": "code",
   "execution_count": 182,
   "metadata": {},
   "outputs": [],
   "source": [
    "x = np.random.randint(0,10,(8))\n",
    "res = np.convolve(x,h)\n",
    "H = linear_conv_mat(h,res.size)\n",
    "res2 = np.matmul(H,x.T)\n",
    "assert np.array_equal(res,res2)"
   ]
  },
  {
   "cell_type": "code",
   "execution_count": 74,
   "metadata": {},
   "outputs": [
    {
     "data": {
      "text/plain": [
       "<matplotlib.image.AxesImage at 0x2672d0ed700>"
      ]
     },
     "execution_count": 74,
     "metadata": {},
     "output_type": "execute_result"
    },
    {
     "data": {
      "image/png": "[encoded data removed]",
      "text/plain": [
       "<Figure size 432x288 with 1 Axes>"
      ]
     },
     "metadata": {
      "needs_background": "light"
     },
     "output_type": "display_data"
    }
   ],
   "source": [
    "plt.imshow(H)"
   ]
  },
  {
   "cell_type": "markdown",
   "metadata": {},
   "source": [
    "## Q2 b "
   ]
  },
  {
   "cell_type": "code",
   "execution_count": 115,
   "metadata": {},
   "outputs": [],
   "source": [
    "def cconv(x:np.array, y:np.array, N:int):\n",
    "    return np.real(ifft(np.multiply(fft(x,N),fft(y,N))))\n"
   ]
  },
  {
   "cell_type": "markdown",
   "metadata": {},
   "source": [
    "Verification"
   ]
  },
  {
   "cell_type": "code",
   "execution_count": 129,
   "metadata": {},
   "outputs": [
    {
     "name": "stdout",
     "output_type": "stream",
     "text": [
      "X =  [2 1 0 0 0] \n",
      "Y =  [4 3 1 4]\n",
      "Linear convolution:  [ 8 10  5  9  4  0  0  0]\n",
      "Circular convolution with N = 8 : [ 8.0000000e+00  1.0000000e+01  5.0000000e+00  9.0000000e+00\n",
      "  4.0000000e+00 -8.8817842e-16  0.0000000e+00 -8.8817842e-16]\n",
      "Circular convolution with N = 6 : [ 8. 10.  5.  9.  4.  0.]\n"
     ]
    }
   ],
   "source": [
    "x = np.random.randint(0,5,(5))\n",
    "y = np.random.randint(0,5,(4))\n",
    "N = 8\n",
    "res = cconv(x,y,N)\n",
    "print(\"X = \",x,\"\\nY = \",y)\n",
    "print(\"Linear convolution: \", np.convolve(x,y))\n",
    "print(\"Circular convolution with N =\", N, \":\", res)\n",
    "N = 6\n",
    "res = cconv(x,y,N)\n",
    "print(\"Circular convolution with N =\", N, \":\", np.round(res,2))\n"
   ]
  },
  {
   "cell_type": "markdown",
   "metadata": {},
   "source": [
    "## Q2 c"
   ]
  },
  {
   "cell_type": "code",
   "execution_count": 175,
   "metadata": {},
   "outputs": [],
   "source": [
    "def  cconvmtx(h:np.array, N:int):\n",
    "    I = np.eye(N)\n",
    "    for i in range(N):\n",
    "        I[:,i] = np.round(cconv(h,I[:,i].T,N).T,3)\n",
    "    return I"
   ]
  },
  {
   "cell_type": "code",
   "execution_count": 181,
   "metadata": {},
   "outputs": [],
   "source": [
    "h = np.random.randint(0,5,32)\n",
    "N = 28\n",
    "x = np.random.randint(0,5,N)\n",
    "res = cconv(x,h,N)\n",
    "H = cconvmtx(h,N)\n",
    "res2 = np.matmul(H,x)\n",
    "assert np.sum(np.isclose(res,res2)) == res.size # np.array_equal may output False due to precision errors\n"
   ]
  },
  {
   "cell_type": "markdown",
   "metadata": {},
   "source": [
    "## Q2 d"
   ]
  },
  {
   "cell_type": "code",
   "execution_count": null,
   "metadata": {},
   "outputs": [],
   "source": []
  }
 ],
 "metadata": {
  "interpreter": {
   "hash": "8f1d1ba53b970a394475cc94e60b90fcc5d10e37a50a96b6c5485e3a6721ded6"
  },
  "kernelspec": {
   "display_name": "Python 3.9.6 64-bit",
   "language": "python",
   "name": "python3"
  },
  "language_info": {
   "codemirror_mode": {
    "name": "ipython",
    "version": 3
   },
   "file_extension": ".py",
   "mimetype": "text/x-python",
   "name": "python",
   "nbconvert_exporter": "python",
   "pygments_lexer": "ipython3",
   "version": "3.9.6"
  },
  "orig_nbformat": 4
 },
 "nbformat": 4,
 "nbformat_minor": 2
}
