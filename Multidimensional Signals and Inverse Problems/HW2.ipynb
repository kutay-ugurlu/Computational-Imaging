{
 "cells": [
  {
   "cell_type": "markdown",
   "metadata": {},
   "source": [
    "# EE798 HW1"
   ]
  },
  {
   "cell_type": "code",
   "execution_count": 2,
   "metadata": {},
   "outputs": [],
   "source": [
    "from scipy.linalg import toeplitz, dft, inv, eigvals, eig\n",
    "import numpy as np\n",
    "from numpy.fft import fft, ifft\n",
    "import matplotlib.pyplot as plt "
   ]
  },
  {
   "cell_type": "markdown",
   "metadata": {},
   "source": [
    "## Q4 a"
   ]
  },
  {
   "cell_type": "code",
   "execution_count": 3,
   "metadata": {},
   "outputs": [],
   "source": [
    "def linear_conv_mat(h:np.array,output_size):\n",
    "    L = h.size\n",
    "    h_ex = np.zeros(output_size)\n",
    "    h_ex[0:L] = h\n",
    "    first_row = np.roll(np.flip(h_ex),1)\n",
    "    return toeplitz(h_ex.T,first_row[0:(output_size-L+1)]) # H + X - 1 = output_size"
   ]
  },
  {
   "cell_type": "markdown",
   "metadata": {},
   "source": [
    "### Demonstration "
   ]
  },
  {
   "cell_type": "code",
   "execution_count": 4,
   "metadata": {},
   "outputs": [
    {
     "data": {
      "text/plain": [
       "array([[1., 0., 0., 0.],\n",
       "       [2., 1., 0., 0.],\n",
       "       [3., 2., 1., 0.],\n",
       "       [4., 3., 2., 1.],\n",
       "       [5., 4., 3., 2.],\n",
       "       [0., 5., 4., 3.],\n",
       "       [0., 0., 5., 4.],\n",
       "       [0., 0., 0., 5.]])"
      ]
     },
     "execution_count": 4,
     "metadata": {},
     "output_type": "execute_result"
    }
   ],
   "source": [
    "h = np.array([1,2,3,4,5])\n",
    "H = linear_conv_mat(h,8)\n",
    "H\n"
   ]
  },
  {
   "cell_type": "markdown",
   "metadata": {},
   "source": [
    "### Verification "
   ]
  },
  {
   "cell_type": "code",
   "execution_count": 16,
   "metadata": {},
   "outputs": [
    {
     "name": "stdout",
     "output_type": "stream",
     "text": [
      "All tests are success!\n"
     ]
    }
   ],
   "source": [
    "x = np.random.randint(0,10,(8))\n",
    "res = np.convolve(x,h)\n",
    "H = linear_conv_mat(h,res.size)\n",
    "res2 = np.matmul(H,x.T)\n",
    "assert np.array_equal(res,res2)\n",
    "\n",
    "x = np.random.randint(0,150,(32))\n",
    "res = np.convolve(x,h)\n",
    "H2 = linear_conv_mat(h,res.size)\n",
    "res2 = np.matmul(H2,x.T)\n",
    "assert np.array_equal(res,res2)\n",
    "\n",
    "print('All tests are success!')"
   ]
  },
  {
   "cell_type": "code",
   "execution_count": 17,
   "metadata": {},
   "outputs": [
    {
     "data": {
      "text/plain": [
       "<matplotlib.image.AxesImage at 0x1bb464ba730>"
      ]
     },
     "execution_count": 17,
     "metadata": {},
     "output_type": "execute_result"
    },
    {
     "data": {
      "image/png": "[encoded data removed]",
      "text/plain": [
       "<Figure size 432x288 with 2 Axes>"
      ]
     },
     "metadata": {
      "needs_background": "light"
     },
     "output_type": "display_data"
    }
   ],
   "source": [
    "plt.subplot(1,2,1)\n",
    "plt.imshow(H)\n",
    "plt.title(\"H1\")\n",
    "plt.subplot(1,2,2)\n",
    "plt.title(\"H2\")\n",
    "plt.imshow(H2)"
   ]
  },
  {
   "cell_type": "markdown",
   "metadata": {},
   "source": [
    "## Q4 b "
   ]
  },
  {
   "cell_type": "markdown",
   "metadata": {},
   "source": [
    "### The circular convolution should be of length $$N = L_x + L_y - 1$$ to obtain linear convolution.\n",
    "\n",
    "### The sequences $\\hat{h} \\ and \\ \\hat{x}$ are zero-padded version of sequences $h \\ and \\ x$ to the length of the linear convolution. This relationship is hidden inside the fft implementation, which automatically pads zero to the sequence if the FFT points N is larger than length of the sequence L."
   ]
  },
  {
   "cell_type": "code",
   "execution_count": 22,
   "metadata": {},
   "outputs": [],
   "source": [
    "def cconv(x:np.array, y:np.array, N:int):\n",
    "    return np.round(np.real(ifft(np.multiply(fft(x,N),fft(y,N)))),3)\n"
   ]
  },
  {
   "cell_type": "code",
   "execution_count": 24,
   "metadata": {},
   "outputs": [
    {
     "name": "stdout",
     "output_type": "stream",
     "text": [
      "[ 0  4 13 16 12]\n"
     ]
    },
    {
     "data": {
      "text/plain": [
       "array([-0.,  4., 13., 16., 12.])"
      ]
     },
     "execution_count": 24,
     "metadata": {},
     "output_type": "execute_result"
    }
   ],
   "source": [
    "x = [0,1,2]\n",
    "y = [4,5,6]\n",
    "print(np.convolve(x,y))\n",
    "cconv(x,y,5)"
   ]
  },
  {
   "cell_type": "markdown",
   "metadata": {},
   "source": [
    "Verification"
   ]
  },
  {
   "cell_type": "code",
   "execution_count": 7,
   "metadata": {},
   "outputs": [
    {
     "name": "stdout",
     "output_type": "stream",
     "text": [
      "X =  [3 3 3 4 0] \n",
      "Y =  [4 1 1 3]\n",
      "Linear convolution:  [12 15 18 31 16 13 12  0]\n",
      "Circular convolution with N = 8 : [ 1.20000000e+01  1.50000000e+01  1.80000000e+01  3.10000000e+01\n",
      "  1.60000000e+01  1.30000000e+01  1.20000000e+01 -3.55271368e-15]\n",
      "Circular convolution with N = 6 : [24. 15. 18. 31. 16. 13.]\n"
     ]
    }
   ],
   "source": [
    "x = np.random.randint(0,5,(5))\n",
    "y = np.random.randint(0,5,(4))\n",
    "N = 8\n",
    "res = cconv(x,y,N)\n",
    "print(\"X = \",x,\"\\nY = \",y)\n",
    "print(\"Linear convolution: \", np.convolve(x,y))\n",
    "print(\"Circular convolution with N =\", N, \":\", res)\n",
    "N = 6\n",
    "res = cconv(x,y,N)\n",
    "print(\"Circular convolution with N =\", N, \":\", np.round(res,2))\n"
   ]
  },
  {
   "cell_type": "markdown",
   "metadata": {},
   "source": [
    "## Q4 c"
   ]
  },
  {
   "cell_type": "markdown",
   "metadata": {},
   "source": [
    "### The implementation is based on the transformation of basis vectors of $\\mathbb{R}^{N}$ where transform is the circular convolution."
   ]
  },
  {
   "cell_type": "code",
   "execution_count": 25,
   "metadata": {},
   "outputs": [],
   "source": [
    "def  cconvmtx(h:np.array, N:int):\n",
    "    I = np.eye(N)\n",
    "    for i in range(N):\n",
    "        I[:,i] = np.round(cconv(h,I[:,i].T,N).T,3)\n",
    "    return I"
   ]
  },
  {
   "cell_type": "code",
   "execution_count": 38,
   "metadata": {},
   "outputs": [
    {
     "name": "stdout",
     "output_type": "stream",
     "text": [
      "All tests are success!\n"
     ]
    }
   ],
   "source": [
    "N = 1024\n",
    "Max = 10\n",
    "for trial in range(10): # Number of test cases\n",
    "    h = np.random.randint(0,Max,N)\n",
    "    x = np.random.randint(0,Max,N)\n",
    "    res = cconv(x,h,N)\n",
    "    H = cconvmtx(h,N)\n",
    "    res2 = np.matmul(H,x)\n",
    "    assert np.sum(np.isclose(res,res2)) == res.size # np.array_equal sometimes outputs False due to precision errors\n",
    "print(\"All tests are success!\")\n"
   ]
  },
  {
   "cell_type": "markdown",
   "metadata": {},
   "source": [
    "## Q4 d\n",
    "### Verification \n",
    "* N values are swept from 4 to 64 and every case is asserted. "
   ]
  },
  {
   "cell_type": "code",
   "execution_count": 49,
   "metadata": {},
   "outputs": [
    {
     "data": {
      "text/plain": [
       "True"
      ]
     },
     "execution_count": 49,
     "metadata": {},
     "output_type": "execute_result"
    }
   ],
   "source": [
    "A = dft(5)\n",
    "B = inv(A)\n",
    "C = A.conj()/5\n",
    "np.sum(np.isclose(B,C)) == B.size\n"
   ]
  },
  {
   "cell_type": "code",
   "execution_count": 39,
   "metadata": {},
   "outputs": [
    {
     "name": "stdout",
     "output_type": "stream",
     "text": [
      "All tests are success!\n"
     ]
    }
   ],
   "source": [
    "for N in range(4,64):\n",
    "    h = np.random.randint(0,12,N)\n",
    "    x = np.random.randint(0,12,N)\n",
    "    F = dft(N)\n",
    "    X = np.matmul(F,x)\n",
    "    H = np.matmul(F,h)\n",
    "    res = np.matmul(inv(F),np.multiply(X,H))\n",
    "    res2 = cconv(x,h,N)\n",
    "    assert np.sum(np.isclose(res,res2)) == res.size # np.array_equal may output False due to precision errors\n",
    "print(\"All tests are success!\")"
   ]
  },
  {
   "cell_type": "markdown",
   "metadata": {},
   "source": [
    "## Q4 e"
   ]
  },
  {
   "cell_type": "code",
   "execution_count": 53,
   "metadata": {},
   "outputs": [
    {
     "data": {
      "text/plain": [
       "<matplotlib.image.AxesImage at 0x1bb4869e910>"
      ]
     },
     "execution_count": 53,
     "metadata": {},
     "output_type": "execute_result"
    },
    {
     "data": {
      "image/png": "[encoded data removed]",
      "text/plain": [
       "<Figure size 432x288 with 1 Axes>"
      ]
     },
     "metadata": {
      "needs_background": "light"
     },
     "output_type": "display_data"
    }
   ],
   "source": [
    "N = 10\n",
    "H = cconvmtx([1,2,3],N)\n",
    "plt.imshow(H)"
   ]
  },
  {
   "cell_type": "markdown",
   "metadata": {},
   "source": [
    "### Verification "
   ]
  },
  {
   "cell_type": "code",
   "execution_count": 56,
   "metadata": {},
   "outputs": [
    {
     "name": "stdout",
     "output_type": "stream",
     "text": [
      "All tests are success!\n"
     ]
    },
    {
     "data": {
      "text/plain": [
       "<matplotlib.image.AxesImage at 0x1bb4871b0a0>"
      ]
     },
     "execution_count": 56,
     "metadata": {},
     "output_type": "execute_result"
    },
    {
     "data": {
      "image/png": "[encoded data removed]",
      "text/plain": [
       "<Figure size 432x288 with 1 Axes>"
      ]
     },
     "metadata": {
      "needs_background": "light"
     },
     "output_type": "display_data"
    }
   ],
   "source": [
    "for trial in range(20):\n",
    "    F = dft(N)\n",
    "    FCFH = np.round(F.dot(H).dot(inv(F)),1)/N\n",
    "    assert np.all(FCFH == np.diag(np.diagonal(FCFH)))\n",
    "print(\"All tests are success!\")\n",
    "plt.imshow(np.abs(FCFH))"
   ]
  },
  {
   "cell_type": "code",
   "execution_count": null,
   "metadata": {},
   "outputs": [],
   "source": []
  }
 ],
 "metadata": {
  "interpreter": {
   "hash": "7a12981601a8eeebc151f8f3a14528a4644a235ce0fa70161c2ba7f4c0880691"
  },
  "kernelspec": {
   "display_name": "Python 3.8.1 64-bit",
   "language": "python",
   "name": "python3"
  },
  "language_info": {
   "codemirror_mode": {
    "name": "ipython",
    "version": 3
   },
   "file_extension": ".py",
   "mimetype": "text/x-python",
   "name": "python",
   "nbconvert_exporter": "python",
   "pygments_lexer": "ipython3",
   "version": "3.8.1"
  },
  "orig_nbformat": 4
 },
 "nbformat": 4,
 "nbformat_minor": 2
}
