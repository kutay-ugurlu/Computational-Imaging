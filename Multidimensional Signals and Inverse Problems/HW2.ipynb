{
 "cells": [
  {
   "cell_type": "markdown",
   "metadata": {},
   "source": [
    "# EE798 HW2"
   ]
  },
  {
   "cell_type": "code",
   "execution_count": 1,
   "metadata": {},
   "outputs": [],
   "source": [
    "from scipy.linalg import toeplitz, dft, inv, eigvals, eig, kron, eigh\n",
    "from scipy.signal import convolve2d, convolve\n",
    "import numpy as np\n",
    "from numpy.fft import fft, ifft\n",
    "import matplotlib.pyplot as plt "
   ]
  },
  {
   "cell_type": "markdown",
   "metadata": {},
   "source": [
    "## Q4 a"
   ]
  },
  {
   "cell_type": "code",
   "execution_count": 2,
   "metadata": {},
   "outputs": [],
   "source": [
    "def linear_conv_mat(h:np.array,output_size):\n",
    "    L = h.size\n",
    "    h_ex = np.zeros(output_size)\n",
    "    h_ex[0:L] = h\n",
    "    first_row = np.roll(np.flip(h_ex),1)\n",
    "    return toeplitz(h_ex.T,first_row[0:(output_size-L+1)]) # H + X - 1 = output_size"
   ]
  },
  {
   "cell_type": "markdown",
   "metadata": {},
   "source": [
    "### Demonstration "
   ]
  },
  {
   "cell_type": "code",
   "execution_count": 3,
   "metadata": {},
   "outputs": [
    {
     "data": {
      "text/plain": [
       "array([[1., 0., 0., 0.],\n",
       "       [2., 1., 0., 0.],\n",
       "       [3., 2., 1., 0.],\n",
       "       [4., 3., 2., 1.],\n",
       "       [5., 4., 3., 2.],\n",
       "       [0., 5., 4., 3.],\n",
       "       [0., 0., 5., 4.],\n",
       "       [0., 0., 0., 5.]])"
      ]
     },
     "execution_count": 3,
     "metadata": {},
     "output_type": "execute_result"
    }
   ],
   "source": [
    "h = np.array([1,2,3,4,5])\n",
    "H = linear_conv_mat(h,8)\n",
    "H\n"
   ]
  },
  {
   "cell_type": "markdown",
   "metadata": {},
   "source": [
    "### Verification "
   ]
  },
  {
   "cell_type": "code",
   "execution_count": 4,
   "metadata": {},
   "outputs": [
    {
     "name": "stdout",
     "output_type": "stream",
     "text": [
      "All tests are success!\n"
     ]
    }
   ],
   "source": [
    "x = np.random.randint(0,10,(8))\n",
    "res = np.convolve(x,h)\n",
    "H = linear_conv_mat(h,res.size)\n",
    "res2 = np.matmul(H,x.T)\n",
    "assert np.array_equal(res,res2)\n",
    "\n",
    "x = np.random.randint(0,150,(32))\n",
    "res = np.convolve(x,h)\n",
    "H2 = linear_conv_mat(h,res.size)\n",
    "res2 = np.matmul(H2,x.T)\n",
    "assert np.array_equal(res,res2)\n",
    "\n",
    "print('All tests are success!')"
   ]
  },
  {
   "cell_type": "code",
   "execution_count": 5,
   "metadata": {},
   "outputs": [
    {
     "data": {
      "text/plain": [
       "<matplotlib.image.AxesImage at 0x214362a2400>"
      ]
     },
     "execution_count": 5,
     "metadata": {},
     "output_type": "execute_result"
    },
    {
     "data": {
      "image/png": "[encoded data removed]",
      "text/plain": [
       "<Figure size 432x288 with 2 Axes>"
      ]
     },
     "metadata": {
      "needs_background": "light"
     },
     "output_type": "display_data"
    }
   ],
   "source": [
    "plt.subplot(1,2,1)\n",
    "plt.imshow(H)\n",
    "plt.title(\"H1\")\n",
    "plt.subplot(1,2,2)\n",
    "plt.title(\"H2\")\n",
    "plt.imshow(H2)"
   ]
  },
  {
   "cell_type": "markdown",
   "metadata": {},
   "source": [
    "## Q4 b "
   ]
  },
  {
   "cell_type": "markdown",
   "metadata": {},
   "source": [
    "### The circular convolution should be of length $$N = L_x + L_y - 1$$ to obtain linear convolution.\n",
    "\n",
    "### The sequences $\\hat{h}$ and $\\hat{x}$ are zero-padded version of sequences $h$ and $x$ to the length of the linear convolution. This relationship is hidden inside the FFT implementation, which automatically pads zero to the sequence if the FFT points N is larger than length of the sequence L.\n",
    "\n",
    "### If N is smaller than the length of any of the input vectors, then the vectors are \"rolled\" on to itself and the circular convolution is conducted with those rolled versions: $$ x_{Rolled}[n] = \\sum\\limits_{k=-\\infty}^{+\\infty} x[n + kN] $$"
   ]
  },
  {
   "cell_type": "code",
   "execution_count": 6,
   "metadata": {},
   "outputs": [],
   "source": [
    "def cconv(x:np.array, y:np.array, N:int):\n",
    "    return np.round(np.real(ifft(np.multiply(fft(x,N),fft(y,N)))),3)\n"
   ]
  },
  {
   "cell_type": "code",
   "execution_count": 7,
   "metadata": {},
   "outputs": [
    {
     "name": "stdout",
     "output_type": "stream",
     "text": [
      "[ 0  4 13 16 12]\n"
     ]
    },
    {
     "data": {
      "text/plain": [
       "array([-0.,  4., 13., 16., 12.])"
      ]
     },
     "execution_count": 7,
     "metadata": {},
     "output_type": "execute_result"
    }
   ],
   "source": [
    "x = [0,1,2]\n",
    "y = [4,5,6]\n",
    "print(np.convolve(x,y))\n",
    "cconv(x,y,5)"
   ]
  },
  {
   "cell_type": "markdown",
   "metadata": {},
   "source": [
    "Verification"
   ]
  },
  {
   "cell_type": "code",
   "execution_count": 8,
   "metadata": {},
   "outputs": [
    {
     "name": "stdout",
     "output_type": "stream",
     "text": [
      "X =  [1 1 2 2 2] \n",
      "Y =  [0 4 0 3]\n",
      "Linear convolution:  [ 0  4  4 11 11 14  6  6]\n",
      "Circular convolution with N = 8 : [-0.  4.  4. 11. 11. 14.  6.  6.]\n",
      "Circular convolution with N = 6 : [ 6. 10.  4. 11. 11. 14.]\n"
     ]
    }
   ],
   "source": [
    "x = np.random.randint(0,5,(5))\n",
    "y = np.random.randint(0,5,(4))\n",
    "N = 8\n",
    "res = cconv(x,y,N)\n",
    "print(\"X = \",x,\"\\nY = \",y)\n",
    "print(\"Linear convolution: \", np.convolve(x,y))\n",
    "print(\"Circular convolution with N =\", N, \":\", res)\n",
    "N = 6\n",
    "res = cconv(x,y,N)\n",
    "print(\"Circular convolution with N =\", N, \":\", np.round(res,2))\n"
   ]
  },
  {
   "cell_type": "markdown",
   "metadata": {},
   "source": [
    "## Q4 c"
   ]
  },
  {
   "cell_type": "markdown",
   "metadata": {},
   "source": [
    "### The implementation is based on the transformation of basis vectors of $\\mathbb{R}^{N}$ where transform is the circular convolution."
   ]
  },
  {
   "cell_type": "code",
   "execution_count": 9,
   "metadata": {},
   "outputs": [],
   "source": [
    "def  cconvmtx(h:np.array, N:int):\n",
    "    I = np.eye(N)\n",
    "    for i in range(N):\n",
    "        I[:,i] = np.round(cconv(h,I[:,i].T,N).T,3)\n",
    "    return I"
   ]
  },
  {
   "cell_type": "code",
   "execution_count": 10,
   "metadata": {},
   "outputs": [
    {
     "name": "stdout",
     "output_type": "stream",
     "text": [
      "All tests are success!\n"
     ]
    }
   ],
   "source": [
    "N = 1024\n",
    "Max = 10\n",
    "for trial in range(10): # Number of test cases\n",
    "    h = np.random.randint(0,Max,N)\n",
    "    x = np.random.randint(0,Max,N)\n",
    "    res = cconv(x,h,N)\n",
    "    H = cconvmtx(h,N)\n",
    "    res2 = np.matmul(H,x)\n",
    "    assert np.sum(np.isclose(res,res2)) == res.size # np.array_equal sometimes outputs False due to precision errors\n",
    "print(\"All tests are success!\")\n"
   ]
  },
  {
   "cell_type": "markdown",
   "metadata": {},
   "source": [
    "## Q4 d\n",
    "### Verification \n",
    "* N values are swept from 4 to 64 and every case is asserted. "
   ]
  },
  {
   "cell_type": "code",
   "execution_count": 11,
   "metadata": {},
   "outputs": [
    {
     "name": "stdout",
     "output_type": "stream",
     "text": [
      "All tests are success!\n"
     ]
    }
   ],
   "source": [
    "for N in range(4,64):\n",
    "    h = np.random.randint(0,12,N)\n",
    "    x = np.random.randint(0,12,N)\n",
    "    F = dft(N)\n",
    "    X = np.matmul(F,x)\n",
    "    H = np.matmul(F,h)\n",
    "    res = np.matmul(inv(F),np.multiply(X,H))\n",
    "    res2 = cconv(x,h,N)\n",
    "    assert np.sum(np.isclose(res,res2)) == res.size # np.array_equal may output False due to precision errors\n",
    "print(\"All tests are success!\")"
   ]
  },
  {
   "cell_type": "markdown",
   "metadata": {},
   "source": [
    "## Q4 e"
   ]
  },
  {
   "cell_type": "code",
   "execution_count": 12,
   "metadata": {},
   "outputs": [
    {
     "data": {
      "text/plain": [
       "<matplotlib.image.AxesImage at 0x2143632efd0>"
      ]
     },
     "execution_count": 12,
     "metadata": {},
     "output_type": "execute_result"
    },
    {
     "data": {
      "image/png": "[encoded data removed]",
      "text/plain": [
       "<Figure size 432x288 with 1 Axes>"
      ]
     },
     "metadata": {
      "needs_background": "light"
     },
     "output_type": "display_data"
    }
   ],
   "source": [
    "N = 10\n",
    "H = cconvmtx([1,2,3],N)\n",
    "plt.imshow(H)"
   ]
  },
  {
   "cell_type": "markdown",
   "metadata": {},
   "source": [
    "### Verification "
   ]
  },
  {
   "cell_type": "code",
   "execution_count": 13,
   "metadata": {},
   "outputs": [
    {
     "name": "stdout",
     "output_type": "stream",
     "text": [
      "All tests are success!\n"
     ]
    },
    {
     "data": {
      "text/plain": [
       "<matplotlib.image.AxesImage at 0x21438397fa0>"
      ]
     },
     "execution_count": 13,
     "metadata": {},
     "output_type": "execute_result"
    },
    {
     "data": {
      "image/png": "[encoded data removed]",
      "text/plain": [
       "<Figure size 432x288 with 1 Axes>"
      ]
     },
     "metadata": {
      "needs_background": "light"
     },
     "output_type": "display_data"
    }
   ],
   "source": [
    "for trial in range(20):\n",
    "    N = np.random.randint(1,20,1).item()\n",
    "    h = np.random.randint(0,100,N)\n",
    "    H = cconvmtx(h,N)\n",
    "    F = dft(N)\n",
    "    f_H = np.matmul(F,h)\n",
    "    FCFH = F.dot(H).dot(F.conj().transpose())/N\n",
    "    assert np.sum(np.isclose(FCFH, np.diag(f_H))) == FCFH.size\n",
    "print(\"All tests are success!\")\n",
    "plt.imshow(np.abs(FCFH))"
   ]
  },
  {
   "cell_type": "markdown",
   "metadata": {},
   "source": [
    "### First column experiment  "
   ]
  },
  {
   "cell_type": "code",
   "execution_count": 14,
   "metadata": {},
   "outputs": [
    {
     "name": "stdout",
     "output_type": "stream",
     "text": [
      "All tests are success!\n"
     ]
    }
   ],
   "source": [
    "first_col = H[:,0]\n",
    "FIRST_COL = np.matmul(F,first_col)\n",
    "assert np.sum(np.isclose(FIRST_COL, f_H)) == FIRST_COL.size\n",
    "print(\"All tests are success!\")\n"
   ]
  },
  {
   "cell_type": "markdown",
   "metadata": {},
   "source": [
    "### Eigen Decomposition "
   ]
  },
  {
   "cell_type": "code",
   "execution_count": 15,
   "metadata": {},
   "outputs": [],
   "source": [
    "N = np.random.randint(1,5,1).item()\n",
    "h = np.random.randint(0,100,N)\n",
    "H = cconvmtx(h,N)\n",
    "P = (dft(N)) # Diagonalizing matrix\n",
    "E = np.diag(P.dot(H).dot(inv(P)))"
   ]
  },
  {
   "cell_type": "code",
   "execution_count": 16,
   "metadata": {},
   "outputs": [],
   "source": [
    "container = []\n",
    "M = H.dot(P)\n",
    "for i in range(N):\n",
    "    container.append(np.true_divide(M[:,i],P[:,i])[0])\n",
    "container = np.array(container)\n"
   ]
  },
  {
   "cell_type": "markdown",
   "metadata": {},
   "source": [
    "### Due to ordering issue, real and imaginary parts are sorted and compared separately"
   ]
  },
  {
   "cell_type": "code",
   "execution_count": 17,
   "metadata": {},
   "outputs": [
    {
     "name": "stdout",
     "output_type": "stream",
     "text": [
      "All tests are success!\n"
     ]
    }
   ],
   "source": [
    "assert (np.sum(np.isclose(np.sort_complex(np.real(container)),np.sort_complex((np.real(E))))) == E.size and\n",
    "        np.sum(np.isclose(np.sort_complex((np.imag(container))),np.sort_complex(np.imag(E)))) == E.size)\n",
    "print(\"All tests are success!\")"
   ]
  },
  {
   "cell_type": "markdown",
   "metadata": {},
   "source": [
    "# Q5 a"
   ]
  },
  {
   "cell_type": "code",
   "execution_count": 18,
   "metadata": {},
   "outputs": [],
   "source": [
    "def sepconv2(X:np.array, h1:np.array, h2:np.array):\n",
    "    X = convolve(X,h1)\n",
    "    return convolve(X,h2)"
   ]
  },
  {
   "cell_type": "markdown",
   "metadata": {},
   "source": [
    "### Verification "
   ]
  },
  {
   "cell_type": "code",
   "execution_count": 19,
   "metadata": {},
   "outputs": [
    {
     "name": "stdout",
     "output_type": "stream",
     "text": [
      "All tests are success!\n"
     ]
    }
   ],
   "source": [
    "from skimage import data\n",
    "X = data.camera()\n",
    "N1 = 5\n",
    "N2 = 9\n",
    "\n",
    "l1 = np.ones((N1,1)) / N1\n",
    "l2 = np.ones((N2,1)) / N2\n",
    "h1 = np.array(l1)\n",
    "h2 = np.array(l2)\n",
    "h1 = np.reshape(h1,(len(h1),1))\n",
    "h2 = np.reshape(h2,(len(h2),1)).T\n",
    "res = sepconv2(X,h1,h2)\n",
    "res2 = convolve2d(X, np.matmul(h1,h2))\n",
    "assert np.sum(np.isclose(res,res2)) == res.size # np.array_equal may output False due to precision errors\n",
    "\n",
    "for trial in range(20):\n",
    "    l1 = np.random.randint(-100,100,N1)\n",
    "    l2 = np.random.randint(-100,100,N2)\n",
    "    h1 = np.array(l1)\n",
    "    h2 = np.array(l2)\n",
    "    h1 = np.reshape(h1,(len(h1),1))\n",
    "    h2 = np.reshape(h2,(len(h2),1)).T\n",
    "    res = sepconv2(X,h1,h2)\n",
    "    res2 = convolve2d(X, np.matmul(h1,h2))\n",
    "    assert np.sum(np.isclose(res,res2)) == res.size # np.array_equal may output False due to precision errors\n",
    "print(\"All tests are success!\")"
   ]
  },
  {
   "cell_type": "markdown",
   "metadata": {},
   "source": [
    "# Q5 b"
   ]
  },
  {
   "cell_type": "code",
   "execution_count": 20,
   "metadata": {},
   "outputs": [],
   "source": [
    "def sepconv2mtx(L1:int, L2:int, h1:np.array, h2:np.array):\n",
    "    Lh1 = h1.shape[0] # column vector\n",
    "    Lh2 = h2.shape[1] # row vector\n",
    "    output1 = Lh1 + L1 - 1 \n",
    "    output2 = Lh2 + L2 - 1\n",
    "    H1 = linear_conv_mat(h1.T, output_size=output1)\n",
    "    H2 = linear_conv_mat(h2, output_size=output2)\n",
    "    return kron(H2,H1)"
   ]
  },
  {
   "cell_type": "markdown",
   "metadata": {},
   "source": [
    "### Verification "
   ]
  },
  {
   "cell_type": "code",
   "execution_count": 21,
   "metadata": {},
   "outputs": [
    {
     "name": "stdout",
     "output_type": "stream",
     "text": [
      "All tests are success!\n"
     ]
    }
   ],
   "source": [
    "N = 32\n",
    "X = np.random.randint(0,100,(N,N))\n",
    "vecX = X.flatten(order=\"F\").T\n",
    "N1 = 5\n",
    "N2 = 9\n",
    "L1, L2 = X.shape[0], X.shape[1]\n",
    "for trial in range(20):\n",
    "    l1 = np.random.randint(-100,100,N1) / N1\n",
    "    l2 = np.random.randint(-100,100,N2) / N2\n",
    "    h1 = np.array(l1)\n",
    "    h2 = np.array(l2)\n",
    "    h1 = np.reshape(h1,(len(h1),1))\n",
    "    h2 = np.reshape(h2,(len(h2),1)).T\n",
    "    sepConv = sepconv2mtx(L1, L2, h1, h2)\n",
    "    res = np.reshape(np.matmul(sepConv,vecX),(N1+L1-1,N2+L2-1), order=\"F\")\n",
    "    res2 = convolve2d(X,np.matmul(h1,h2))\n",
    "    assert np.sum(np.isclose(res,res2)) == res.size # np.array_equal may output False due to precision errors\n",
    "print(\"All tests are success!\")"
   ]
  }
 ],
 "metadata": {
  "interpreter": {
   "hash": "7a12981601a8eeebc151f8f3a14528a4644a235ce0fa70161c2ba7f4c0880691"
  },
  "kernelspec": {
   "display_name": "Python 3.8.1 64-bit",
   "language": "python",
   "name": "python3"
  },
  "language_info": {
   "codemirror_mode": {
    "name": "ipython",
    "version": 3
   },
   "file_extension": ".py",
   "mimetype": "text/x-python",
   "name": "python",
   "nbconvert_exporter": "python",
   "pygments_lexer": "ipython3",
   "version": "3.8.1"
  },
  "orig_nbformat": 4
 },
 "nbformat": 4,
 "nbformat_minor": 2
}
