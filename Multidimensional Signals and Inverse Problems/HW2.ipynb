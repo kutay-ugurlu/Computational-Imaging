{
 "cells": [
  {
   "cell_type": "markdown",
   "metadata": {},
   "source": [
    "# EE798 HW1"
   ]
  },
  {
   "cell_type": "code",
   "execution_count": 1,
   "metadata": {},
   "outputs": [],
   "source": [
    "from scipy.linalg import toeplitz, dft, inv, eigvals, eig\n",
    "import numpy as np\n",
    "from numpy.fft import fft, ifft\n",
    "import matplotlib.pyplot as plt "
   ]
  },
  {
   "cell_type": "markdown",
   "metadata": {},
   "source": [
    "## Q4 a"
   ]
  },
  {
   "cell_type": "code",
   "execution_count": 2,
   "metadata": {},
   "outputs": [],
   "source": [
    "def linear_conv_mat(h:np.array,output_size):\n",
    "    L = h.size\n",
    "    h_ex = np.zeros(output_size)\n",
    "    h_ex[0:L] = h\n",
    "    first_row = np.roll(np.flip(h_ex),1)\n",
    "    return toeplitz(h_ex.T,first_row[0:(output_size-L+1)]) # H + X - 1 = output_size"
   ]
  },
  {
   "cell_type": "markdown",
   "metadata": {},
   "source": [
    "Demonstration "
   ]
  },
  {
   "cell_type": "code",
   "execution_count": 3,
   "metadata": {},
   "outputs": [
    {
     "data": {
      "text/plain": [
       "array([[1., 0., 0., 0.],\n",
       "       [2., 1., 0., 0.],\n",
       "       [3., 2., 1., 0.],\n",
       "       [4., 3., 2., 1.],\n",
       "       [5., 4., 3., 2.],\n",
       "       [0., 5., 4., 3.],\n",
       "       [0., 0., 5., 4.],\n",
       "       [0., 0., 0., 5.]])"
      ]
     },
     "execution_count": 3,
     "metadata": {},
     "output_type": "execute_result"
    }
   ],
   "source": [
    "h = np.array([1,2,3,4,5])\n",
    "H = linear_conv_mat(h,8)\n",
    "H\n"
   ]
  },
  {
   "cell_type": "markdown",
   "metadata": {},
   "source": [
    "Verification "
   ]
  },
  {
   "cell_type": "code",
   "execution_count": 4,
   "metadata": {},
   "outputs": [],
   "source": [
    "x = np.random.randint(0,10,(8))\n",
    "res = np.convolve(x,h)\n",
    "H = linear_conv_mat(h,res.size)\n",
    "res2 = np.matmul(H,x.T)\n",
    "assert np.array_equal(res,res2)"
   ]
  },
  {
   "cell_type": "code",
   "execution_count": 5,
   "metadata": {},
   "outputs": [
    {
     "data": {
      "text/plain": [
       "<matplotlib.image.AxesImage at 0x236a8bb1550>"
      ]
     },
     "execution_count": 5,
     "metadata": {},
     "output_type": "execute_result"
    },
    {
     "data": {
      "image/png": "[encoded data removed]",
      "text/plain": [
       "<Figure size 432x288 with 1 Axes>"
      ]
     },
     "metadata": {
      "needs_background": "light"
     },
     "output_type": "display_data"
    }
   ],
   "source": [
    "plt.imshow(H)"
   ]
  },
  {
   "cell_type": "markdown",
   "metadata": {},
   "source": [
    "## Q4 b "
   ]
  },
  {
   "cell_type": "code",
   "execution_count": 6,
   "metadata": {},
   "outputs": [],
   "source": [
    "def cconv(x:np.array, y:np.array, N:int):\n",
    "    return np.real(ifft(np.multiply(fft(x,N),fft(y,N))))\n"
   ]
  },
  {
   "cell_type": "markdown",
   "metadata": {},
   "source": [
    "Verification"
   ]
  },
  {
   "cell_type": "code",
   "execution_count": 7,
   "metadata": {},
   "outputs": [
    {
     "name": "stdout",
     "output_type": "stream",
     "text": [
      "X =  [0 4 3 2 0] \n",
      "Y =  [4 0 0 1]\n",
      "Linear convolution:  [ 0 16 12  8  4  3  2  0]\n",
      "Circular convolution with N = 8 : [-8.8817842e-16  1.6000000e+01  1.2000000e+01  8.0000000e+00\n",
      "  4.0000000e+00  3.0000000e+00  2.0000000e+00 -8.8817842e-16]\n",
      "Circular convolution with N = 6 : [ 2. 16. 12.  8.  4.  3.]\n"
     ]
    }
   ],
   "source": [
    "x = np.random.randint(0,5,(5))\n",
    "y = np.random.randint(0,5,(4))\n",
    "N = 8\n",
    "res = cconv(x,y,N)\n",
    "print(\"X = \",x,\"\\nY = \",y)\n",
    "print(\"Linear convolution: \", np.convolve(x,y))\n",
    "print(\"Circular convolution with N =\", N, \":\", res)\n",
    "N = 6\n",
    "res = cconv(x,y,N)\n",
    "print(\"Circular convolution with N =\", N, \":\", np.round(res,2))\n"
   ]
  },
  {
   "cell_type": "markdown",
   "metadata": {},
   "source": [
    "## Q4 c"
   ]
  },
  {
   "cell_type": "code",
   "execution_count": 8,
   "metadata": {},
   "outputs": [],
   "source": [
    "def  cconvmtx(h:np.array, N:int):\n",
    "    I = np.eye(N)\n",
    "    for i in range(N):\n",
    "        I[:,i] = np.round(cconv(h,I[:,i].T,N).T,3)\n",
    "    return I"
   ]
  },
  {
   "cell_type": "code",
   "execution_count": 9,
   "metadata": {},
   "outputs": [
    {
     "name": "stdout",
     "output_type": "stream",
     "text": [
      "All tests are success!\n"
     ]
    }
   ],
   "source": [
    "h = np.random.randint(0,5,32)\n",
    "N = 28\n",
    "x = np.random.randint(0,5,N)\n",
    "res = cconv(x,h,N)\n",
    "H = cconvmtx(h,N)\n",
    "res2 = np.matmul(H,x)\n",
    "assert np.sum(np.isclose(res,res2)) == res.size # np.array_equal may output False due to precision errors\n",
    "print(\"All tests are success!\")\n"
   ]
  },
  {
   "cell_type": "markdown",
   "metadata": {},
   "source": [
    "## Q4 d\n",
    "### Verification \n",
    "* N values are swept from 4 to 64 and every case is asserted. "
   ]
  },
  {
   "cell_type": "code",
   "execution_count": 10,
   "metadata": {},
   "outputs": [
    {
     "name": "stdout",
     "output_type": "stream",
     "text": [
      "All tests are success!\n"
     ]
    }
   ],
   "source": [
    "for N in range(4,64):\n",
    "    N = 16\n",
    "    h = np.random.randint(0,12,N)\n",
    "    x = np.random.randint(0,12,N)\n",
    "    F = dft(N)\n",
    "    X = np.matmul(F,x)\n",
    "    H = np.matmul(F,h)\n",
    "    res = np.matmul(inv(F),np.multiply(X,H))\n",
    "    res2 = cconv(x,h,N)\n",
    "    assert np.sum(np.isclose(res,res2)) == res.size # np.array_equal may output False due to precision errors\n",
    "print(\"All tests are success!\")"
   ]
  },
  {
   "cell_type": "markdown",
   "metadata": {},
   "source": [
    "## Q4 e"
   ]
  },
  {
   "cell_type": "code",
   "execution_count": 11,
   "metadata": {},
   "outputs": [
    {
     "name": "stdout",
     "output_type": "stream",
     "text": [
      "[[1. 0. 0. 3. 2.]\n",
      " [2. 1. 0. 0. 3.]\n",
      " [3. 2. 1. 0. 0.]\n",
      " [0. 3. 2. 1. 0.]\n",
      " [0. 0. 3. 2. 1.]]\n"
     ]
    },
    {
     "data": {
      "text/plain": [
       "<matplotlib.image.AxesImage at 0x236aacb6400>"
      ]
     },
     "execution_count": 11,
     "metadata": {},
     "output_type": "execute_result"
    },
    {
     "data": {
      "image/png": "[encoded data removed]",
      "text/plain": [
       "<Figure size 432x288 with 1 Axes>"
      ]
     },
     "metadata": {
      "needs_background": "light"
     },
     "output_type": "display_data"
    }
   ],
   "source": [
    "H = cconvmtx([1,2,3],5)\n",
    "print(H)\n",
    "plt.imshow(H)"
   ]
  },
  {
   "cell_type": "code",
   "execution_count": 12,
   "metadata": {},
   "outputs": [
    {
     "name": "stdout",
     "output_type": "stream",
     "text": [
      "[[ 6. -0.j  -0. -0.j  -0. +0.j   0. +0.j   0. -0.j ]\n",
      " [ 0. -0.j  -0.8-3.7j  0. -0.j  -0. +0.j   0. +0.j ]\n",
      " [-0. -0.j  -0. +0.j   0.3+1.7j  0. -0.j  -0. +0.j ]\n",
      " [ 0. -0.j   0. +0.j   0. -0.j   0.3-1.7j -0. +0.j ]\n",
      " [ 0. -0.j  -0. +0.j  -0. +0.j  -0. +0.j  -0.8+3.7j]]\n"
     ]
    },
    {
     "data": {
      "image/png": "[encoded data removed]",
      "text/plain": [
       "<Figure size 432x288 with 1 Axes>"
      ]
     },
     "metadata": {
      "needs_background": "light"
     },
     "output_type": "display_data"
    }
   ],
   "source": [
    "F = dft(5)\n",
    "FCFH = np.round(F.dot(H).dot(inv(F)),1)\n",
    "plt.imshow(np.abs(FCFH))\n",
    "print(FCFH)"
   ]
  },
  {
   "cell_type": "code",
   "execution_count": 13,
   "metadata": {},
   "outputs": [
    {
     "data": {
      "text/plain": [
       "array([ 6.  +0.j  , -0.81+3.67j, -0.81-3.67j,  0.31+1.68j,  0.31-1.68j])"
      ]
     },
     "execution_count": 13,
     "metadata": {},
     "output_type": "execute_result"
    }
   ],
   "source": [
    "[E,P] = eig(H)\n",
    "np.round(E,2)"
   ]
  },
  {
   "cell_type": "code",
   "execution_count": null,
   "metadata": {},
   "outputs": [],
   "source": []
  }
 ],
 "metadata": {
  "interpreter": {
   "hash": "7a12981601a8eeebc151f8f3a14528a4644a235ce0fa70161c2ba7f4c0880691"
  },
  "kernelspec": {
   "display_name": "Python 3.8.1 64-bit",
   "language": "python",
   "name": "python3"
  },
  "language_info": {
   "codemirror_mode": {
    "name": "ipython",
    "version": 3
   },
   "file_extension": ".py",
   "mimetype": "text/x-python",
   "name": "python",
   "nbconvert_exporter": "python",
   "pygments_lexer": "ipython3",
   "version": "3.8.1"
  },
  "orig_nbformat": 4
 },
 "nbformat": 4,
 "nbformat_minor": 2
}
